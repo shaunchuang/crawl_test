{
 "cells": [
  {
   "cell_type": "code",
   "execution_count": 9,
   "metadata": {},
   "outputs": [],
   "source": [
    "import requests\n",
    "from bs4 import BeautifulSoup\n",
    "import numpy as np\n",
    "import pandas as pd\n",
    "import fastparquet"
   ]
  },
  {
   "cell_type": "code",
   "execution_count": 2,
   "metadata": {
    "tags": [
     "outputPrepend"
    ]
   },
   "outputs": [],
   "source": [
    "url = 'https://www.sum.com.tw/carsearchlist.php?v=3&ctp_prt=&price1=0&price2=220&yearrange=&cararea=&carregion=&cartype=&carcolor=&brand=&model=&year1=&year2=&doors=&q=&show_type=&carrecommend=&comp_goldstore=&discount=&cc1=&cc2=&protection=&carvr=&page=&sort=&sortpage1=&gclid=&priceRange1=&priceRange2=&wd=&_de=0.5690229095899482&page=1'\n",
    "# https://www.sum.com.tw/carsearchlist.php?v=3&ctp_prt=&price1=0&price2=220&yearrange=&cararea=&carregion=&cartype=&carcolor=&brand=&model=&year1=&year2=&doors=&q=&show_type=&carrecommend=&comp_goldstore=&discount=&cc1=&cc2=&protection=&carvr=&page=&sort=&sortpage1=&gclid=&priceRange1=&priceRange2=&wd=&_de=0.5690229095899482&page=2b\n",
    "headers={\n",
    "    'Host':'www.sum.com.tw',\n",
    "'Connection':'keep-alive',\n",
    "'Accept':'text/plain, */*; q=0.01',\n",
    "'X-Requested-With':'XMLHttpRequest',\n",
    "'sec-ch-ua-mobile':'?0',\n",
    "'User-Agent':'Mozilla/5.0 (Macintosh; Intel Mac OS X 10_15_7) AppleWebKit/537.36 (KHTML, like Gecko) Chrome/91.0.4472.106 Safari/537.36',\n",
    "# 'Sec-Fetch-Site':'same-origin',\n",
    "# 'Sec-Fetch-Mode':'cors',\n",
    "# 'Sec-Fetch-Dest':'empty',\n",
    "# 'Referer':'https://www.sum.com.tw/carsearch.php?v=3&ctp_prt=&price1=0&price2=220&yearrange=&cararea=&carregion=&cartype=&carcolor=&brand=&model=&year1=&year2=&doors=&q=&show_type=&carrecommend=&comp_goldstore=&discount=&cc1=&cc2=&protection=&carvr=&page=&sort=&sortpage1=&gclid=&priceRange1=&priceRange2=&wd=&_de=0.5690229095899482&page=1',\n",
    "'Accept-Encoding':'gzip, deflate, br',\n",
    "'Accept-Language':'zh-TW,zh;q=0.9,en-US;q=0.8,en;q=0.7,zh-CN;q=0.6',\n",
    "'Cookie':'PHPSESSID=qn203skntjuv8bkevorgrhg5g7; _gcl_au=1.1.1197458183.1624031200; _ga=GA1.3.849228594.1624031200; __auc=38660c2a17a1fcd839cb333ad40; _hjTLDTest=1; _hjid=13961593-1974-490c-8e9b-f0726e39cde0; _fbp=fb.2.1624031200855.1701953032; _gid=GA1.3.966926215.1624256678; _TUCI_T=sessionNumber+18799&pageView+18799; Tagtoo_pta=pta_03+_&lta+_tm^3Ad1056_; __asc=c83520af17a2d7bcacaaa8c8958; _TUCS=1; _TUCI=sessionNumber+2498&ECId+155&hostname+www.sum.com.tw&pageView+7493',\n",
    "}\n",
    "r=requests.get(url,headers=headers)"
   ]
  },
  {
   "cell_type": "code",
   "execution_count": 48,
   "metadata": {
    "tags": [
     "outputPrepend"
    ]
   },
   "outputs": [],
   "source": [
    "soup=BeautifulSoup(r.text,'lxml')\n",
    "seo_list=soup.find_all('li',class_='seo_list')\n",
    "list1=[]\n",
    "df1=pd.DataFrame(columns=['id','auto_brand_en','auto_kind_name','auto_address','auto_title_all','auto_dealer'])\n",
    "\n",
    "for li in seo_list:\n",
    "    idnum=li.get('data-seo_name')\n",
    "    autoinfo=li.find('h3').a.text.split('|')[0]\n",
    "    auto_brand_en=autoinfo.split(' ',1)[0]\n",
    "    auto_kind_name=autoinfo.split(' ',1)[1]\n",
    "    auto_address=li.find('ul').find_next_sibling().find('li').text\n",
    "    auto_title_all=li.find('div',class_='carCondition').h3.text.strip()\n",
    "    auto_dealer=li.find('ul').find_next_sibling().find('li').find_next_sibling().text\n",
    "    df1= df1.append({'id':idnum,'auto_brand_en':auto_brand_en,'auto_kind_name':auto_kind_name,\n",
    "                     'auto_address':auto_address,'auto_title_all':auto_title_all,'auto_dealer':auto_dealer}, ignore_index=True)\n",
    "\n",
    "df1.to_parquet('sum_car.parquet',engine='fastparquet')"
   ]
  },
  {
   "cell_type": "code",
   "execution_count": 37,
   "metadata": {},
   "outputs": [],
   "source": [
    "np = df1['id'][0]\n",
    "url_in = 'https://www.sum.com.tw/carinfo-573699.php'\n",
    "headers={\n",
    "    'Host':'www.sum.com.tw',\n",
    "'Connection':'keep-alive',\n",
    "'Accept':'text/plain, */*; q=0.01',\n",
    "'X-Requested-With':'XMLHttpRequest',\n",
    "'sec-ch-ua-mobile':'?0',\n",
    "'User-Agent':'Mozilla/5.0 (Macintosh; Intel Mac OS X 10_15_7) AppleWebKit/537.36 (KHTML, like Gecko) Chrome/91.0.4472.106 Safari/537.36',\n",
    "# 'Sec-Fetch-Site':'same-origin',\n",
    "# 'Sec-Fetch-Mode':'cors',\n",
    "# 'Sec-Fetch-Dest':'empty',\n",
    "# 'Referer':'https://www.sum.com.tw/carsearch.php?v=3&ctp_prt=&price1=0&price2=220&yearrange=&cararea=&carregion=&cartype=&carcolor=&brand=&model=&year1=&year2=&doors=&q=&show_type=&carrecommend=&comp_goldstore=&discount=&cc1=&cc2=&protection=&carvr=&page=&sort=&sortpage1=&gclid=&priceRange1=&priceRange2=&wd=&_de=0.5690229095899482&page=1',\n",
    "'Accept-Encoding':'gzip, deflate, br',\n",
    "'Accept-Language':'zh-TW,zh;q=0.9,en-US;q=0.8,en;q=0.7,zh-CN;q=0.6',\n",
    "'Cookie':'PHPSESSID=qn203skntjuv8bkevorgrhg5g7; _gcl_au=1.1.1197458183.1624031200; _ga=GA1.3.849228594.1624031200; __auc=38660c2a17a1fcd839cb333ad40; _hjTLDTest=1; _hjid=13961593-1974-490c-8e9b-f0726e39cde0; _fbp=fb.2.1624031200855.1701953032; _gid=GA1.3.966926215.1624256678; _TUCI_T=sessionNumber+18799&pageView+18799; Tagtoo_pta=pta_03+_&lta+_tm^3Ad1056_; __asc=c83520af17a2d7bcacaaa8c8958; _TUCS=1; _TUCI=sessionNumber+2498&ECId+155&hostname+www.sum.com.tw&pageView+7493',\n",
    "}\n",
    "# id','m_id','auto_brand_en','auto_brand_id','auto_gas_size','auto_make_date','auto_mileage_num','auto_price','auto_price_tag',\n",
    "#                           'auto_price_type','auto_title_all','item_post_date','item_renew_date','is_new','item_show_num','photo','photoList','rank'\n",
    "\n",
    "df2=pd.DataFrame(columns=['id','auto_mileage_num','auto_year','auto_price_tag','auto_gas_size','auto_color','auto_tab_name','auto_dirveMode','auto_fuelType','auto_door','auto_seat'])\n",
    "\n",
    "r1=requests.get(url_in,headers=headers)\n",
    "\n",
    "soup1=BeautifulSoup(r1.text,'lxml')\n",
    "\n",
    "carDetail=soup1.find('div',class_='buyCarDetailTitleTextContent')\n",
    "\n",
    "carPrice=soup1.find('div',class_='buyCarDetailTitleTextPrice')\n",
    "\n",
    "auto_price=carPrice.find('b').text\n",
    "\n",
    "info=carDetail.find_all('span')\n",
    "\n",
    "\n",
    "auto_year=info[3].text\n",
    "auto_gas_size=info[4].text\n",
    "auto_color=info[5].text\n",
    "auto_gearType=info[6].text\n",
    "auto_driveMode=info[7].text\n",
    "auto_fuelType=info[8].text\n",
    "auto_mileage_num=info[9].text\n",
    "auto_door=info[10].text\n",
    "auto_seat=info[11].text\n",
    "df2= df2.append({'id':573699,'auto_mileage_num':auto_mileage_num,'auto_year':auto_year,'auto_price_tag':auto_price,\n",
    "                 'auto_gas_size':auto_gas_size,'auto_color':auto_color,'auto_tab_name':auto_gearType,\n",
    "                 'auto_dirveMode':auto_driveMode,'auto_fuelType':auto_fuelType,'auto_door':auto_door,'auto_seat':auto_seat}, ignore_index=True)\n",
    "df2\n",
    "\n"
   ]
  }
 ],
 "metadata": {
  "interpreter": {
   "hash": "aee8b7b246df8f9039afb4144a1f6fd8d2ca17a180786b69acc140d282b71a49"
  },
  "kernelspec": {
   "display_name": "Python 3",
   "language": "python",
   "name": "python3"
  },
  "language_info": {
   "codemirror_mode": {
    "name": "ipython",
    "version": 3
   },
   "file_extension": ".py",
   "mimetype": "text/x-python",
   "name": "python",
   "nbconvert_exporter": "python",
   "pygments_lexer": "ipython3",
   "version": "3.9.5"
  }
 },
 "nbformat": 4,
 "nbformat_minor": 4
}
