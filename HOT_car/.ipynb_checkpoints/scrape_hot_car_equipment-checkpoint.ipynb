{
 "cells": [
  {
   "cell_type": "code",
   "execution_count": 1,
   "id": "ca370e4d",
   "metadata": {},
   "outputs": [],
   "source": [
    "from selenium import webdriver\n",
    "import time\n",
    "import numpy as np\n",
    "import pandas as pd\n",
    "import requests\n",
    "from bs4 import BeautifulSoup\n",
    "import re"
   ]
  },
  {
   "cell_type": "code",
   "execution_count": 4,
   "id": "0c4dc148",
   "metadata": {},
   "outputs": [
    {
     "name": "stdout",
     "output_type": "stream",
     "text": [
      "['安全氣囊', 'ABS', '定速', '倒車影像', '倒車雷達', '衛星導航', '胎壓偵測', '霧燈', 'ESP', '車道偏移系統', '車側盲點偵測系統', '鋁圈', '電動後視鏡', 'HID頭燈', '天窗', '電動尾門', '電動滑門', '全景天窗', '皮椅', '恆溫空調', 'PUSH START', 'ISOFIX', 'CD', 'VCD', 'DVD', '液晶螢幕', '電動座椅', '方向盤換檔撥片']\n"
     ]
    }
   ],
   "source": [
    "#先把全部有的欄位(安全設備)抓下來，其他大項可以依照這方法抓ex外部設備\n",
    "headers = {\n",
    "    'User-Agent':'Mozilla/5.0 (Windows NT 10.0; Win64; x64) AppleWebKit/537.36 (KHTML, like Gecko) Chrome/89.0.4389.114 Safari/537.36'}\n",
    "equipment_all1 = []\n",
    "url='https://www.hotcar.com.tw/CWA/CWA060.html?TSEQNO=236856'\n",
    "r=requests.get(url,headers=headers)\n",
    "r.encoding='utf-8'\n",
    "soup=BeautifulSoup(r.text,'lxml')\n",
    "car_info=soup.find_all(id='components')\n",
    "car_info2 = BeautifulSoup(str(car_info), 'html.parser')\n",
    "car_info3 = car_info2.find_all('li')\n",
    "for i in car_info3:\n",
    "    equipment_all1.append(i.text.strip())\n",
    "print(equipment_all1)"
   ]
  },
  {
   "cell_type": "code",
   "execution_count": 5,
   "id": "8077a1a9",
   "metadata": {},
   "outputs": [
    {
     "name": "stdout",
     "output_type": "stream",
     "text": [
      "['安全配備', '安全氣囊', 'ABS', '倒車影像', '倒車雷達', 'ESP', '車側盲點偵測系統']\n"
     ]
    }
   ],
   "source": [
    "#找到安全設備中目前有的配備\n",
    "from selenium import webdriver\n",
    "import time\n",
    "driver = webdriver.Chrome('./chromedriver')\n",
    "url='https://www.hotcar.com.tw/CWA/CWA060.html?TSEQNO=236856'\n",
    "driver.get(url)#.encoding='utf-8'\n",
    "time.sleep(5)\n",
    "title = driver.find_element_by_xpath(\n",
    "        '//*[@id=\"components\"]/div[1]')\n",
    "print(title.text.split('\\n'))"
   ]
  },
  {
   "cell_type": "code",
   "execution_count": 6,
   "id": "7402c08c",
   "metadata": {},
   "outputs": [
    {
     "data": {
      "text/html": [
       "<div>\n",
       "<style scoped>\n",
       "    .dataframe tbody tr th:only-of-type {\n",
       "        vertical-align: middle;\n",
       "    }\n",
       "\n",
       "    .dataframe tbody tr th {\n",
       "        vertical-align: top;\n",
       "    }\n",
       "\n",
       "    .dataframe thead th {\n",
       "        text-align: right;\n",
       "    }\n",
       "</style>\n",
       "<table border=\"1\" class=\"dataframe\">\n",
       "  <thead>\n",
       "    <tr style=\"text-align: right;\">\n",
       "      <th></th>\n",
       "      <th>安全氣囊</th>\n",
       "      <th>ABS</th>\n",
       "      <th>定速</th>\n",
       "      <th>倒車影像</th>\n",
       "      <th>倒車雷達</th>\n",
       "      <th>衛星導航</th>\n",
       "      <th>胎壓偵測</th>\n",
       "      <th>霧燈</th>\n",
       "      <th>ESP</th>\n",
       "      <th>車道偏移系統</th>\n",
       "      <th>...</th>\n",
       "      <th>皮椅</th>\n",
       "      <th>恆溫空調</th>\n",
       "      <th>PUSH START</th>\n",
       "      <th>ISOFIX</th>\n",
       "      <th>CD</th>\n",
       "      <th>VCD</th>\n",
       "      <th>DVD</th>\n",
       "      <th>液晶螢幕</th>\n",
       "      <th>電動座椅</th>\n",
       "      <th>方向盤換檔撥片</th>\n",
       "    </tr>\n",
       "  </thead>\n",
       "  <tbody>\n",
       "    <tr>\n",
       "      <th>0</th>\n",
       "      <td>0</td>\n",
       "      <td>0</td>\n",
       "      <td>0</td>\n",
       "      <td>0</td>\n",
       "      <td>0</td>\n",
       "      <td>0</td>\n",
       "      <td>0</td>\n",
       "      <td>0</td>\n",
       "      <td>0</td>\n",
       "      <td>0</td>\n",
       "      <td>...</td>\n",
       "      <td>0</td>\n",
       "      <td>0</td>\n",
       "      <td>0</td>\n",
       "      <td>0</td>\n",
       "      <td>0</td>\n",
       "      <td>0</td>\n",
       "      <td>0</td>\n",
       "      <td>0</td>\n",
       "      <td>0</td>\n",
       "      <td>0</td>\n",
       "    </tr>\n",
       "  </tbody>\n",
       "</table>\n",
       "<p>1 rows × 28 columns</p>\n",
       "</div>"
      ],
      "text/plain": [
       "   安全氣囊  ABS  定速  倒車影像  倒車雷達  衛星導航  胎壓偵測  霧燈  ESP  車道偏移系統  ...  皮椅  恆溫空調  \\\n",
       "0     0    0   0     0     0     0     0   0    0       0  ...   0     0   \n",
       "\n",
       "   PUSH START  ISOFIX  CD  VCD  DVD  液晶螢幕  電動座椅  方向盤換檔撥片  \n",
       "0           0       0   0    0    0     0     0        0  \n",
       "\n",
       "[1 rows x 28 columns]"
      ]
     },
     "execution_count": 6,
     "metadata": {},
     "output_type": "execute_result"
    }
   ],
   "source": [
    "#建一個安全設備的dataframe\n",
    "equipments = pd.DataFrame([list([0]*len(equipment_all1))],columns=equipment_all1)\n",
    "equipments "
   ]
  },
  {
   "cell_type": "code",
   "execution_count": 8,
   "id": "f9102650",
   "metadata": {},
   "outputs": [
    {
     "data": {
      "text/html": [
       "<div>\n",
       "<style scoped>\n",
       "    .dataframe tbody tr th:only-of-type {\n",
       "        vertical-align: middle;\n",
       "    }\n",
       "\n",
       "    .dataframe tbody tr th {\n",
       "        vertical-align: top;\n",
       "    }\n",
       "\n",
       "    .dataframe thead th {\n",
       "        text-align: right;\n",
       "    }\n",
       "</style>\n",
       "<table border=\"1\" class=\"dataframe\">\n",
       "  <thead>\n",
       "    <tr style=\"text-align: right;\">\n",
       "      <th></th>\n",
       "      <th>安全氣囊</th>\n",
       "      <th>ABS</th>\n",
       "      <th>定速</th>\n",
       "      <th>倒車影像</th>\n",
       "      <th>倒車雷達</th>\n",
       "      <th>衛星導航</th>\n",
       "      <th>胎壓偵測</th>\n",
       "      <th>霧燈</th>\n",
       "      <th>ESP</th>\n",
       "      <th>車道偏移系統</th>\n",
       "      <th>...</th>\n",
       "      <th>皮椅</th>\n",
       "      <th>恆溫空調</th>\n",
       "      <th>PUSH START</th>\n",
       "      <th>ISOFIX</th>\n",
       "      <th>CD</th>\n",
       "      <th>VCD</th>\n",
       "      <th>DVD</th>\n",
       "      <th>液晶螢幕</th>\n",
       "      <th>電動座椅</th>\n",
       "      <th>方向盤換檔撥片</th>\n",
       "    </tr>\n",
       "  </thead>\n",
       "  <tbody>\n",
       "    <tr>\n",
       "      <th>0</th>\n",
       "      <td>1</td>\n",
       "      <td>1</td>\n",
       "      <td>0</td>\n",
       "      <td>1</td>\n",
       "      <td>1</td>\n",
       "      <td>0</td>\n",
       "      <td>0</td>\n",
       "      <td>0</td>\n",
       "      <td>1</td>\n",
       "      <td>0</td>\n",
       "      <td>...</td>\n",
       "      <td>0</td>\n",
       "      <td>0</td>\n",
       "      <td>0</td>\n",
       "      <td>0</td>\n",
       "      <td>0</td>\n",
       "      <td>0</td>\n",
       "      <td>0</td>\n",
       "      <td>0</td>\n",
       "      <td>0</td>\n",
       "      <td>0</td>\n",
       "    </tr>\n",
       "  </tbody>\n",
       "</table>\n",
       "<p>1 rows × 28 columns</p>\n",
       "</div>"
      ],
      "text/plain": [
       "   安全氣囊  ABS  定速  倒車影像  倒車雷達  衛星導航  胎壓偵測  霧燈  ESP  車道偏移系統  ...  皮椅  恆溫空調  \\\n",
       "0     1    1   0     1     1     0     0   0    1       0  ...   0     0   \n",
       "\n",
       "   PUSH START  ISOFIX  CD  VCD  DVD  液晶螢幕  電動座椅  方向盤換檔撥片  \n",
       "0           0       0   0    0    0     0     0        0  \n",
       "\n",
       "[1 rows x 28 columns]"
      ]
     },
     "execution_count": 8,
     "metadata": {},
     "output_type": "execute_result"
    }
   ],
   "source": [
    "#有該項設備就變成1\n",
    "for i in title.text.split('\\n'):\n",
    "    if i in equipment_all1:\n",
    "        equipments[i] = 1\n",
    "equipments "
   ]
  },
  {
   "cell_type": "code",
   "execution_count": null,
   "id": "2c46f77e",
   "metadata": {},
   "outputs": [],
   "source": []
  }
 ],
 "metadata": {
  "kernelspec": {
   "display_name": "Python 3",
   "language": "python",
   "name": "python3"
  },
  "language_info": {
   "codemirror_mode": {
    "name": "ipython",
    "version": 3
   },
   "file_extension": ".py",
   "mimetype": "text/x-python",
   "name": "python",
   "nbconvert_exporter": "python",
   "pygments_lexer": "ipython3",
   "version": "3.7.6"
  }
 },
 "nbformat": 4,
 "nbformat_minor": 5
}
