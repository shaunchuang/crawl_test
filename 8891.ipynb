{
 "cells": [
  {
   "cell_type": "code",
   "execution_count": 2,
   "id": "a1f863c6-aee4-4c7c-8d0b-dd8e361ff624",
   "metadata": {},
   "outputs": [
    {
     "name": "stdout",
     "output_type": "stream",
     "text": [
      "                                           Title  \\\n",
      "0           Subaru Impreza Hatchback 2017款 1.6L   \n",
      "1           Mercedes-Benz GLC GLC300 2018款 2.0L   \n",
      "2                       Toyota Yaris 2016款 1.5L   \n",
      "3    BMW 3-Series Sedan 330i M Sport 2019款 2.0L   \n",
      "4                      Toyota Sienna 2021款 2.5L   \n",
      "..                                           ...   \n",
      "115                          Audi Q2 2018款 1.4L   \n",
      "116                 BMW X1 SDrive18i 2012款 2.0L   \n",
      "117                    Suzuki Vitara 2019款 1.4L   \n",
      "118          BMW 5-Series Sedan 530i 2017款 2.0L   \n",
      "119                    Jaguar F-Type 2017款 3.0L   \n",
      "\n",
      "                                                                     Description  \\\n",
      "0           僅跑1萬2 可全額貸款【八德-德國萊因認證車】                             \n",
      "1    19吋AMG鋼圈，AMG夜色套件，LED頭燈，環景倒車影像，電尾門，停車輔助雷達......   \n",
      "2            超貸找現金/小車大空間/省油省稅金/保值車款                             \n",
      "3    【滿吉國際】330i M-Sport x 雷射頭燈 x 環景影像 x H/K音響......                \n",
      "4    【滿吉國際】LE 菁英版 八人座 & 全新車 & 自動跟車系統 & 盲點偵測......         \n",
      "..                                                                     ...         \n",
      "115                                     女用業務自售車                             \n",
      "116  白色車庫 2012年式總代理BMW X1 S18i 平價入手豪華進口車享受......               \n",
      "117                           2019年 Vitara 1.4 頂級版                             \n",
      "118  [大洋汽車]總代理BMW530I M版白色2017年車美狀況極佳                             \n",
      "119  稀有!汽油版末代捷豹跑車,車身有貼膜消光黑可以幫忙處理......                    \n",
      "\n",
      "     Price  Year  Distance  \n",
      "0     65.8  2017   1.2萬km  \n",
      "1     電洽  2018   4.5萬km  \n",
      "2       29  2016   8.0萬km  \n",
      "3    185.8  2019   4.3萬km  \n",
      "4    195.8  2021     174km  \n",
      "..     ...   ...       ...  \n",
      "115    118  2018   9.0萬km  \n",
      "116     52  2011  12.1萬km  \n",
      "117   69.8  2019   1.0萬km  \n",
      "118   電洽  2017   3.1萬km  \n",
      "119   電洽  2017   1.3萬km  \n",
      "\n",
      "[120 rows x 5 columns]\n"
     ]
    }
   ],
   "source": [
    "from selenium import webdriver\n",
    "import time\n",
    "import numpy as np\n",
    "import pandas as pd\n",
    "\n",
    "pd.set_option('display.unicode.ambiguous_as_wide', True)\n",
    "pd.set_option('display.unicode.east_asian_width', True)\n",
    "driver = webdriver.Chrome('./chromedriver')\n",
    "driver.maximize_window()\n",
    "time.sleep(1)\n",
    "df = pd.DataFrame(columns=['Title', 'Description', 'Price', 'Year', 'Distance'])\n",
    "for x in range(1, 4):\n",
    "    url = f'https://auto.8891.com.tw/?page={x}'\n",
    "    driver.get(url)\n",
    "    time.sleep(5)\n",
    "\n",
    "    for i in range(1, 41):\n",
    "        title = driver.find_element_by_xpath(\n",
    "            f'//*[@id=\"search-result\"]/a[{i}]/div/div[2]/div[1]/span')\n",
    "        # print(title.text)\n",
    "\n",
    "        describe = driver.find_element_by_xpath(\n",
    "            f'//*[@id=\"search-result\"]/a[{i}]/div/div[2]/div[2]')\n",
    "        # print(describe.text)\n",
    "\n",
    "        price = driver.find_element_by_xpath(\n",
    "            f'//*[@id=\"search-result\"]/a[{i}]/div/div[3]/span[1]/b')\n",
    "        # print(price.text)\n",
    "\n",
    "        year = driver.find_element_by_xpath(\n",
    "            f'//*[@id=\"search-result\"]/a[{i}]/div/div[3]/span[2]/b')\n",
    "        # print(year.text)\n",
    "\n",
    "        distance = driver.find_element_by_xpath(\n",
    "            f'//*[@id=\"search-result\"]/a[{i}]/div/div[3]/span[3]')\n",
    "        # print(distance.text)\n",
    "        df = df.append({'Title': title.text, 'Description': describe.text, 'Price': price.text,\n",
    "                       'Year': year.text, 'Distance': distance.text}, ignore_index=True)\n",
    "        \n",
    "\n",
    "print(df)\n",
    "df.to_csv('car.csv',encoding='utf-8-sig')\n",
    "driver.close()\n"
   ]
  },
  {
   "cell_type": "code",
   "execution_count": 1,
   "id": "62b60f4d-e395-43b7-a159-03d2fd75bb7d",
   "metadata": {},
   "outputs": [],
   "source": [
    "import numpy as np\n",
    "import pandas as pd"
   ]
  },
  {
   "cell_type": "code",
   "execution_count": 6,
   "id": "73e527be-e5fa-4fc2-b544-75496f54648a",
   "metadata": {},
   "outputs": [],
   "source": [
    "df=pd.read_csv('car.csv')"
   ]
  },
  {
   "cell_type": "code",
   "execution_count": 7,
   "id": "83d9d1e2-2fda-4a2e-924d-a972c161e137",
   "metadata": {
    "tags": []
   },
   "outputs": [
    {
     "name": "stdout",
     "output_type": "stream",
     "text": [
      "     Unnamed: 0                                       Title  \\\n",
      "0             0         Subaru Impreza Hatchback 2017款 1.6L   \n",
      "1             1         Mercedes-Benz GLC GLC300 2018款 2.0L   \n",
      "2             2                     Toyota Yaris 2016款 1.5L   \n",
      "3             3  BMW 3-Series Sedan 330i M Sport 2019款 2.0L   \n",
      "4             4                    Toyota Sienna 2021款 2.5L   \n",
      "..          ...                                         ...   \n",
      "115         115                          Audi Q2 2018款 1.4L   \n",
      "116         116                 BMW X1 SDrive18i 2012款 2.0L   \n",
      "117         117                    Suzuki Vitara 2019款 1.4L   \n",
      "118         118          BMW 5-Series Sedan 530i 2017款 2.0L   \n",
      "119         119                    Jaguar F-Type 2017款 3.0L   \n",
      "\n",
      "                                  Description  Price  Year Distance  \n",
      "0                     僅跑1萬2 可全額貸款【八德-德國萊因認證車】   65.8  2017   1.2萬km  \n",
      "1    19吋AMG鋼圈，AMG夜色套件，LED頭燈，環景倒車影像，電尾門，停車輔助雷達     電洽  2018   4.5萬km  \n",
      "2                      超貸找現金/小車大空間/省油省稅金/保值車款     29  2016   8.0萬km  \n",
      "3    【滿吉國際】330i M-Sport x 雷射頭燈 x 環景影像 x H/K音響  185.8  2019   4.3萬km  \n",
      "4      【滿吉國際】LE 菁英版 八人座 & 全新車 & 自動跟車系統 & 盲點偵測  195.8  2021    174km  \n",
      "..                                        ...    ...   ...      ...  \n",
      "115                                   女用業務自售車    118  2018   9.0萬km  \n",
      "116     白色車庫 2012年式總代理BMW X1 S18i 平價入手豪華進口車享受     52  2011  12.1萬km  \n",
      "117                      2019年 Vitara 1.4 頂級版   69.8  2019   1.0萬km  \n",
      "118          [大洋汽車]總代理BMW530I M版白色2017年車美狀況極佳     電洽  2017   3.1萬km  \n",
      "119               稀有!汽油版末代捷豹跑車,車身有貼膜消光黑可以幫忙處理     電洽  2017   1.3萬km  \n",
      "\n",
      "[120 rows x 6 columns]\n"
     ]
    }
   ],
   "source": [
    "print(df)"
   ]
  },
  {
   "cell_type": "code",
   "execution_count": 10,
   "id": "c5b45e06-79bb-45d4-9dc6-3beb0a69f67b",
   "metadata": {},
   "outputs": [],
   "source": [
    "df[['Brand','Type']] = df['Title'].str.split(' ',1,expand=True)"
   ]
  },
  {
   "cell_type": "code",
   "execution_count": 16,
   "id": "5f08bbf8-098f-4275-bd0a-b04a4726b710",
   "metadata": {},
   "outputs": [
    {
     "name": "stdout",
     "output_type": "stream",
     "text": [
      "     Unnamed: 0          Title                               Description  \\\n",
      "0             0         Subaru                   僅跑1萬2 可全額貸款【八德-德國萊因認證車】   \n",
      "1             1  Mercedes-Benz  19吋AMG鋼圈，AMG夜色套件，LED頭燈，環景倒車影像，電尾門，停車輔助雷達   \n",
      "2             2         Toyota                    超貸找現金/小車大空間/省油省稅金/保值車款   \n",
      "3             3            BMW  【滿吉國際】330i M-Sport x 雷射頭燈 x 環景影像 x H/K音響   \n",
      "4             4         Toyota    【滿吉國際】LE 菁英版 八人座 & 全新車 & 自動跟車系統 & 盲點偵測   \n",
      "..          ...            ...                                       ...   \n",
      "115         115           Audi                                   女用業務自售車   \n",
      "116         116            BMW     白色車庫 2012年式總代理BMW X1 S18i 平價入手豪華進口車享受   \n",
      "117         117         Suzuki                      2019年 Vitara 1.4 頂級版   \n",
      "118         118            BMW          [大洋汽車]總代理BMW530I M版白色2017年車美狀況極佳   \n",
      "119         119         Jaguar               稀有!汽油版末代捷豹跑車,車身有貼膜消光黑可以幫忙處理   \n",
      "\n",
      "     Price  Year Distance          Brand  \\\n",
      "0     65.8  2017   1.2萬km         Subaru   \n",
      "1       電洽  2018   4.5萬km  Mercedes-Benz   \n",
      "2       29  2016   8.0萬km         Toyota   \n",
      "3    185.8  2019   4.3萬km            BMW   \n",
      "4    195.8  2021    174km         Toyota   \n",
      "..     ...   ...      ...            ...   \n",
      "115    118  2018   9.0萬km           Audi   \n",
      "116     52  2011  12.1萬km            BMW   \n",
      "117   69.8  2019   1.0萬km         Suzuki   \n",
      "118     電洽  2017   3.1萬km            BMW   \n",
      "119     電洽  2017   1.3萬km         Jaguar   \n",
      "\n",
      "                                       Type  \\\n",
      "0              Impreza Hatchback 2017款 1.6L   \n",
      "1                     GLC GLC300 2018款 2.0L   \n",
      "2                          Yaris 2016款 1.5L   \n",
      "3    3-Series Sedan 330i M Sport 2019款 2.0L   \n",
      "4                         Sienna 2021款 2.5L   \n",
      "..                                      ...   \n",
      "115                           Q2 2018款 1.4L   \n",
      "116                 X1 SDrive18i 2012款 2.0L   \n",
      "117                       Vitara 2019款 1.4L   \n",
      "118          5-Series Sedan 530i 2017款 2.0L   \n",
      "119                       F-Type 2017款 3.0L   \n",
      "\n",
      "                                         Temp  \n",
      "0                     僅跑1萬2 可全額貸款【八德-德國萊因認證車】  \n",
      "1    19吋AMG鋼圈，AMG夜色套件，LED頭燈，環景倒車影像，電尾門，停車輔助雷達  \n",
      "2                      超貸找現金/小車大空間/省油省稅金/保值車款  \n",
      "3    【滿吉國際】330i M-Sport x 雷射頭燈 x 環景影像 x H/K音響  \n",
      "4      【滿吉國際】LE 菁英版 八人座 & 全新車 & 自動跟車系統 & 盲點偵測  \n",
      "..                                        ...  \n",
      "115                                   女用業務自售車  \n",
      "116     白色車庫 2012年式總代理BMW X1 S18i 平價入手豪華進口車享受  \n",
      "117                      2019年 Vitara 1.4 頂級版  \n",
      "118          [大洋汽車]總代理BMW530I M版白色2017年車美狀況極佳  \n",
      "119               稀有!汽油版末代捷豹跑車,車身有貼膜消光黑可以幫忙處理  \n",
      "\n",
      "[120 rows x 9 columns]\n"
     ]
    }
   ],
   "source": [
    "print(df)"
   ]
  },
  {
   "cell_type": "code",
   "execution_count": 13,
   "id": "83d7cf75-e818-45e5-b11c-e5a0ae288d93",
   "metadata": {},
   "outputs": [],
   "source": [
    "df[['Title']]=df[['Brand']]"
   ]
  },
  {
   "cell_type": "code",
   "execution_count": 15,
   "id": "29678c0e-2958-4aad-8399-c9f1bee1d10f",
   "metadata": {},
   "outputs": [],
   "source": [
    "df[['Temp']]=df[['Description']]"
   ]
  },
  {
   "cell_type": "code",
   "execution_count": 17,
   "id": "be535ef4-51b7-4e1b-81fa-800b89ec0573",
   "metadata": {},
   "outputs": [],
   "source": [
    "df[['Description']]=df[['Type']]"
   ]
  },
  {
   "cell_type": "code",
   "execution_count": 29,
   "id": "9d517d41-4340-47d9-b865-ab6a7096012b",
   "metadata": {},
   "outputs": [
    {
     "name": "stdout",
     "output_type": "stream",
     "text": [
      "                                                                           Brand  \\\n",
      "0           僅跑1萬2 可全額貸款【八德-德國萊因認證車】                             \n",
      "1    19吋AMG鋼圈，AMG夜色套件，LED頭燈，環景倒車影像，電尾門，停車輔助雷達......   \n",
      "2            超貸找現金/小車大空間/省油省稅金/保值車款                             \n",
      "3    【滿吉國際】330i M-Sport x 雷射頭燈 x 環景影像 x H/K音響......                \n",
      "4    【滿吉國際】LE 菁英版 八人座 & 全新車 & 自動跟車系統 & 盲點偵測......         \n",
      "..                                                                     ...         \n",
      "115                                     女用業務自售車                             \n",
      "116  白色車庫 2012年式總代理BMW X1 S18i 平價入手豪華進口車享受......               \n",
      "117                           2019年 Vitara 1.4 頂級版                             \n",
      "118  [大洋汽車]總代理BMW530I M版白色2017年車美狀況極佳                             \n",
      "119  稀有!汽油版末代捷豹跑車,車身有貼膜消光黑可以幫忙處理......                    \n",
      "\n",
      "     Type  Price  Year  Distance                              Description  \n",
      "0     NaN   65.8  2017   1.2萬km            Impreza Hatchback 2017款 1.6L  \n",
      "1     NaN   電洽  2018   4.5萬km                   GLC GLC300 2018款 2.0L  \n",
      "2     NaN     29  2016   8.0萬km                        Yaris 2016款 1.5L  \n",
      "3     NaN  185.8  2019   4.3萬km  3-Series Sedan 330i M Sport 2019款 2.0L  \n",
      "4     NaN  195.8  2021     174km                       Sienna 2021款 2.5L  \n",
      "..    ...    ...   ...       ...                                      ...  \n",
      "115   NaN    118  2018   9.0萬km                           Q2 2018款 1.4L  \n",
      "116   NaN     52  2011  12.1萬km                 X1 SDrive18i 2012款 2.0L  \n",
      "117   NaN   69.8  2019   1.0萬km                       Vitara 2019款 1.4L  \n",
      "118   NaN   電洽  2017   3.1萬km          5-Series Sedan 530i 2017款 2.0L  \n",
      "119   NaN   電洽  2017   1.3萬km                       F-Type 2017款 3.0L  \n",
      "\n",
      "[120 rows x 6 columns]\n"
     ]
    }
   ],
   "source": [
    "print(df)"
   ]
  },
  {
   "cell_type": "code",
   "execution_count": 19,
   "id": "c3bea892-14dd-4875-b0df-d6f66ab5ad18",
   "metadata": {},
   "outputs": [],
   "source": [
    "df[['Brand']]=df[['Temp']]"
   ]
  },
  {
   "cell_type": "code",
   "execution_count": 24,
   "id": "a3297d3c-f89d-4692-ad8e-c9fb5db9871e",
   "metadata": {},
   "outputs": [],
   "source": [
    "del df['Type']"
   ]
  },
  {
   "cell_type": "code",
   "execution_count": 26,
   "id": "389d90df-2055-449b-a0ab-a3178ff90033",
   "metadata": {},
   "outputs": [],
   "source": [
    "columns_titles = ['Brand','Type','Price','Year','Distance','Description']\n",
    "df=df.reindex(columns=columns_titles)"
   ]
  },
  {
   "cell_type": "code",
   "execution_count": 28,
   "id": "7af197e7-0a77-440d-ab25-795f44265ff3",
   "metadata": {},
   "outputs": [],
   "source": [
    "pd.set_option('display.unicode.ambiguous_as_wide', True)\n",
    "pd.set_option('display.unicode.east_asian_width', True)"
   ]
  }
 ],
 "metadata": {
  "kernelspec": {
   "display_name": "Python 3",
   "language": "python",
   "name": "python3"
  },
  "language_info": {
   "codemirror_mode": {
    "name": "ipython",
    "version": 3
   },
   "file_extension": ".py",
   "mimetype": "text/x-python",
   "name": "python",
   "nbconvert_exporter": "python",
   "pygments_lexer": "ipython3",
   "version": "3.9.5"
  }
 },
 "nbformat": 4,
 "nbformat_minor": 5
}
