{
 "cells": [
  {
   "cell_type": "code",
   "execution_count": 4,
   "id": "ff22928f-6355-4f6c-9eaa-446210799430",
   "metadata": {},
   "outputs": [
    {
     "name": "stdout",
     "output_type": "stream",
     "text": [
      "['https://tw.usedcar.yahoo.com/item/detail/101113637238', 'https://tw.usedcar.yahoo.com/item/detail/101074348237', 'https://tw.usedcar.yahoo.com/item/detail/100903282192', 'https://tw.usedcar.yahoo.com/item/detail/101113629008', 'https://tw.usedcar.yahoo.com/item/detail/101046181388', 'https://tw.usedcar.yahoo.com/item/detail/101096196373', 'https://tw.usedcar.yahoo.com/item/detail/101069606725', 'https://tw.usedcar.yahoo.com/item/detail/101045295692', 'https://tw.usedcar.yahoo.com/item/detail/101113577449', 'https://tw.usedcar.yahoo.com/item/detail/101096624902', 'https://tw.usedcar.yahoo.com/item/detail/101096535640', 'https://tw.usedcar.yahoo.com/item/detail/101096511760', 'https://tw.usedcar.yahoo.com/item/detail/101096493133', 'https://tw.usedcar.yahoo.com/item/detail/101096480999', 'https://tw.usedcar.yahoo.com/item/detail/101113498603', 'https://tw.usedcar.yahoo.com/item/detail/101113344662', 'https://tw.usedcar.yahoo.com/item/detail/101113338991', 'https://tw.usedcar.yahoo.com/item/detail/101113206794', 'https://tw.usedcar.yahoo.com/item/detail/101113205561', 'https://tw.usedcar.yahoo.com/item/detail/101113182257', 'https://tw.usedcar.yahoo.com/item/detail/101070483627', 'https://tw.usedcar.yahoo.com/item/detail/101113017918', 'https://tw.usedcar.yahoo.com/item/detail/101071793450', 'https://tw.usedcar.yahoo.com/item/detail/101071811561', 'https://tw.usedcar.yahoo.com/item/detail/101073541675', 'https://tw.usedcar.yahoo.com/item/detail/101068077251', 'https://tw.usedcar.yahoo.com/item/detail/101050854389', 'https://tw.usedcar.yahoo.com/item/detail/101094568028', 'https://tw.usedcar.yahoo.com/item/detail/101113637238', 'https://tw.usedcar.yahoo.com/item/detail/101074348237', 'https://tw.usedcar.yahoo.com/item/detail/100903282192', 'https://tw.usedcar.yahoo.com/item/detail/101113629008', 'https://tw.usedcar.yahoo.com/item/detail/101046181388', 'https://tw.usedcar.yahoo.com/item/detail/101096196373', 'https://tw.usedcar.yahoo.com/item/detail/101069606725', 'https://tw.usedcar.yahoo.com/item/detail/101045295692', 'https://tw.usedcar.yahoo.com/item/detail/101113577449', 'https://tw.usedcar.yahoo.com/item/detail/101096624902', 'https://tw.usedcar.yahoo.com/item/detail/101096535640', 'https://tw.usedcar.yahoo.com/item/detail/101096511760', 'https://tw.usedcar.yahoo.com/item/detail/101096493133', 'https://tw.usedcar.yahoo.com/item/detail/101096480999', 'https://tw.usedcar.yahoo.com/item/detail/101113498603', 'https://tw.usedcar.yahoo.com/item/detail/101113344662', 'https://tw.usedcar.yahoo.com/item/detail/101113338991', 'https://tw.usedcar.yahoo.com/item/detail/101113206794', 'https://tw.usedcar.yahoo.com/item/detail/101113205561', 'https://tw.usedcar.yahoo.com/item/detail/101113182257', 'https://tw.usedcar.yahoo.com/item/detail/101070483627', 'https://tw.usedcar.yahoo.com/item/detail/101113017918', 'https://tw.usedcar.yahoo.com/item/detail/101071793450', 'https://tw.usedcar.yahoo.com/item/detail/101071811561', 'https://tw.usedcar.yahoo.com/item/detail/101073541675', 'https://tw.usedcar.yahoo.com/item/detail/101068077251', 'https://tw.usedcar.yahoo.com/item/detail/101050854389', 'https://tw.usedcar.yahoo.com/item/detail/101094568028']\n"
     ]
    }
   ],
   "source": [
    "import time\n",
    "from selenium import webdriver as wd\n",
    "import requests\n",
    "link_all = []\n",
    "number = list(range(2,30))\n",
    "driver = wd.Chrome('../chromedriver')\n",
    "for i in range(1,3):\n",
    "    url = f'https://tw.usedcar.yahoo.com/search?catb=&areab=&kw=&cata=000000515224&areaa=tw#!kw=&catid=000000515224&undedup=0&unspc=0&cata=000000515224&catb=&pricea=&priceb=&items=&areaa=tw&areab=&areac=&sort=3&cp={i}&ppa=30&pa=10&vmode=0'\n",
    "    driver.get(url)\n",
    "    time.sleep(5)\n",
    "    for j in number:\n",
    "        for link in driver.find_elements_by_xpath(f'//*[@id=\"ycsrpresult\"]/li[{j}]/div/div[2]/p[1]/a'):\n",
    "            link_all.append(link.get_attribute('href')) \n",
    "driver.close()\n",
    "print(link_all)"
   ]
  }
 ],
 "metadata": {
  "kernelspec": {
   "display_name": "Python 3",
   "language": "python",
   "name": "python3"
  },
  "language_info": {
   "codemirror_mode": {
    "name": "ipython",
    "version": 3
   },
   "file_extension": ".py",
   "mimetype": "text/x-python",
   "name": "python",
   "nbconvert_exporter": "python",
   "pygments_lexer": "ipython3",
   "version": "3.9.5"
  }
 },
 "nbformat": 4,
 "nbformat_minor": 5
}
