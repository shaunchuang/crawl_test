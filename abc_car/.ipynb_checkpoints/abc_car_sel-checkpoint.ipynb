{
 "cells": [
  {
   "cell_type": "code",
   "execution_count": 2,
   "id": "2f5b11a4-bccb-4b84-b5f5-a4c7deb7e3cf",
   "metadata": {},
   "outputs": [],
   "source": [
    "from selenium import webdriver\n",
    "import time\n",
    "import numpy as np\n",
    "import pandas as pd"
   ]
  },
  {
   "cell_type": "code",
   "execution_count": null,
   "id": "5b0b309f-77b3-4f4d-8d1b-4795b3fbf171",
   "metadata": {},
   "outputs": [],
   "source": [
    "def parse_html(r):\n",
    "    if r.status_code == requests.codes.ok:\n",
    "        r.encoding = 'utf8'\n",
    "        soup = BeautifulSoup(r.text, 'lxml')\n",
    "    else:\n",
    "        print(\"Http請求錯誤...\"+url)\n",
    "        soup = None\n",
    "    return soup"
   ]
  },
  {
   "cell_type": "code",
   "execution_count": null,
   "id": "9c8f6c41-737c-4f44-bdd7-ef14f30e18f2",
   "metadata": {},
   "outputs": [],
   "source": [
    "def get_resource(url):\n",
    "    headers = {\n",
    "    'User-Agent':'Mozilla/5.0 (Windows NT 10.0; Win64; x64) AppleWebKit/537.36 (KHTML, like Gecko) Chrome/89.0.4389.114 Safari/537.36'}\n",
    "    r = requests.get(url, headers=headers)\n",
    "    return r"
   ]
  },
  {
   "cell_type": "code",
   "execution_count": 15,
   "id": "0ebdd377-801a-4864-9a7e-66fbbf0d9ad5",
   "metadata": {},
   "outputs": [
    {
     "name": "stdout",
     "output_type": "stream",
     "text": [
      "1560947\n",
      "1565407\n",
      "1531069\n",
      "1565173\n",
      "1546679\n",
      "1548457\n",
      "1564865\n",
      "1563749\n",
      "1564985\n",
      "1557244\n",
      "1548397\n",
      "1548060\n",
      "1562313\n",
      "1564747\n",
      "1560328\n",
      "1566353\n",
      "1539399\n",
      "1566330\n",
      "1565316\n",
      "1545232\n",
      "1552553\n",
      "1564548\n",
      "1522786\n",
      "1566095\n",
      "1565155\n",
      "1566420\n",
      "1542879\n",
      "1549857\n",
      "1565222\n",
      "1564558\n",
      "1554123\n",
      "1565038\n",
      "1543974\n",
      "1510882\n",
      "1559704\n",
      "1548654\n",
      "1560856\n",
      "1555122\n",
      "1563064\n",
      "1564581\n",
      "['1560947', '1565407', '1531069', '1565173', '1546679', '1548457', '1564865', '1563749', '1564985', '1557244', '1548397', '1548060', '1562313', '1564747', '1560328', '1566353', '1539399', '1566330', '1565316', '1545232', '1552553', '1564548', '1522786', '1566095', '1565155', '1566420', '1542879', '1549857', '1565222', '1564558', '1554123', '1565038', '1543974', '1510882', '1559704', '1548654', '1560856', '1555122', '1563064', '1564581']\n"
     ]
    }
   ],
   "source": [
    "\n",
    "driver = webdriver.Chrome('../chromedriver')\n",
    "\n",
    "# Navigate to url\n",
    "driver.get(\"https://www.abccar.com.tw/search?tab=1&SearchType=1&OrderByField=0&page=1\")\n",
    "\n",
    "# driver.add_cookie({'_gcl_au':'1.1.1728982988.1624089038','__gads':'ID=70384f1bba64682e:T=1624089037:S=ALNI_MaR4p9PPy2_PlilD7HCz9ni9a8exg',\n",
    "#                    '_ga':'GA1.3.1085617352.1624089037','__BWfp':'c1624089042902xd364ed052','_gid':'GA1.3.2115392437.1624176184',\n",
    "#                    'FavCars':'1566265%2C1440564','visited':'3','_fbp':'fb.2.1624248240950.1622312035','_TUCU':'Yahoo',\n",
    "#                    'abc_session':'bthl2p8n9ujfu821lcvu6sa1ea1o7smj','SearchCarCacheKey':'d9e96fd9-8d75-4f0d-984d-937fc8d2943f-20210621222019',\n",
    "#                    '_gat_UA-76403875-5':'1','_gat_gtag_UA_34980571_2':'1', '__csi':'1624285692719','abc_session':'4ftmcl7e1tjc5rtgtperqlo5s0sd9eee'\n",
    "# })\n",
    "driver.implicitly_wait(5)\n",
    "driver.maximize_window()\n",
    "dict1=driver.get_cookies()\n",
    "list1=[]\n",
    "for i in range(1,42):\n",
    "    if i == 21:\n",
    "        continue\n",
    "    temp=driver.find_element_by_xpath(f'//*[@id=\"CarList\"]/div/div[{i}]/article/meta[4]')\n",
    "    idnum=temp.get_attribute('content')\n",
    "    list1.append(idnum)\n",
    "    print(idnum)\n",
    "print(list1)\n",
    "driver.close()"
   ]
  },
  {
   "cell_type": "code",
   "execution_count": null,
   "id": "ac27b537-9fba-4488-b5af-70dd9ac27bca",
   "metadata": {},
   "outputs": [],
   "source": [
    "# cannot get car number from web, so find the law of car number instead\n",
    "#add variable of 燃料/排氣\n",
    "other_info = []\n",
    "other_info2 = []\n",
    "df1 = pd.DataFrame(columns=['Title', 'Describe', 'Price', 'Update_time'])\n",
    "\n",
    "#df2 = pd.DataFrame(columns=['ItemId', 'Clicks', 'Update_time'])\n",
    "df2 = pd.DataFrame(columns=['Year', 'Distince', 'Place', 'Other_info'])\n",
    "for i in range(1564328,1564338):\n",
    "    r = get_resource(url)\n",
    "    soup = parse_html(r)\n",
    "    url = f'https://www.abccar.com.tw/car/{i}'\n",
    "    #deduct the car was sold\n",
    "    if soup.find('h1', class_=\"abc-article__title\") is not None and soup.find('h2', class_=\"abc-article__desc\") is not None:\n",
    "        title = soup.find('h1', class_=\"abc-article__title\").text\n",
    "        describe = soup.find('h2', class_=\"abc-article__desc\").text\n",
    "        price = soup.find('span', class_=\"abc-article__price__num\").text\n",
    "        year_distance_palce = soup.find_all('div', class_=\"abc-article__otherinfo__content\")\n",
    "        for i in year_distance_palce:\n",
    "            other_info.append(i.text)\n",
    "        itemid = soup.find_all('section', class_=\"abc-panel abc-panel--update\")\n",
    "        for i in itemid:\n",
    "            detail = i.li               \n",
    "\n",
    "        df1 = df1.append({'Title': title, 'Describe': describe, 'Price': price, 'ItemId': detail}, ignore_index=True)\n",
    "        df2 = df2.append({'Year': other_info[0], 'Distince': other_info[1], 'Place':other_info[2], 'Other_info':other_info[3]}, ignore_index=True)\n",
    "        #df3 = df3.append({'ItemId': other_info2[0], 'Clicks': other_info2[1], 'Update_time': other_info2[2]}, ignore_index=True)\n",
    "       \n",
    "\n"
   ]
  }
 ],
 "metadata": {
  "kernelspec": {
   "display_name": "Python 3",
   "language": "python",
   "name": "python3"
  },
  "language_info": {
   "codemirror_mode": {
    "name": "ipython",
    "version": 3
   },
   "file_extension": ".py",
   "mimetype": "text/x-python",
   "name": "python",
   "nbconvert_exporter": "python",
   "pygments_lexer": "ipython3",
   "version": "3.9.5"
  }
 },
 "nbformat": 4,
 "nbformat_minor": 5
}
