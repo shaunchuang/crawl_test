{
 "cells": [
  {
   "cell_type": "code",
   "execution_count": 1,
   "id": "e59f2a9b-6d7d-4f0d-98c3-0e28ef158159",
   "metadata": {},
   "outputs": [],
   "source": [
    "from selenium import webdriver\n",
    "import requests\n",
    "import json\n",
    "import urllib\n",
    "from pprint import pprint\n",
    "from selenium import webdriver\n",
    "import time"
   ]
  },
  {
   "cell_type": "code",
   "execution_count": 1,
   "id": "9a6656a7-d212-4430-bf2d-ffcca2107cc6",
   "metadata": {},
   "outputs": [
    {
     "name": "stdout",
     "output_type": "stream",
     "text": [
      "https://shopee.tw/%E6%96%B0%E6%AC%BE618%E5%84%AA%E6%83%A0-NIKE-OFFCOURT-SLIDE-SE-%E8%BB%9F%E6%9C%A8%E5%A1%9E-%E9%BB%91%E6%A9%98-%E8%BC%95%E4%BE%BF-%E9%81%8B%E5%8B%95%E6%8B%96%E9%9E%8B-CT0623-200-%E7%94%B7%E5%A5%B3%E9%9E%8B-i.431599137.11105823996\n"
     ]
    },
    {
     "ename": "AttributeError",
     "evalue": "'WebDriver' object has no attribute 'click'",
     "output_type": "error",
     "traceback": [
      "\u001b[0;31m---------------------------------------------------------------------------\u001b[0m",
      "\u001b[0;31mAttributeError\u001b[0m                            Traceback (most recent call last)",
      "\u001b[0;32m<ipython-input-1-bc2c9b2e55b4>\u001b[0m in \u001b[0;36m<module>\u001b[0;34m\u001b[0m\n\u001b[1;32m     17\u001b[0m \u001b[0mprint\u001b[0m\u001b[0;34m(\u001b[0m\u001b[0mid\u001b[0m\u001b[0;34m)\u001b[0m\u001b[0;34m\u001b[0m\u001b[0;34m\u001b[0m\u001b[0m\n\u001b[1;32m     18\u001b[0m \u001b[0;31m# //*[@id=\"main\"]/div/div[3]/div/div[2]/div[2]/div[2]/div[{i}]/a   total 50\u001b[0m\u001b[0;34m\u001b[0m\u001b[0;34m\u001b[0m\u001b[0;34m\u001b[0m\u001b[0m\n\u001b[0;32m---> 19\u001b[0;31m \u001b[0mdriver\u001b[0m\u001b[0;34m.\u001b[0m\u001b[0mclick\u001b[0m\u001b[0;34m(\u001b[0m\u001b[0;34m)\u001b[0m\u001b[0;34m\u001b[0m\u001b[0;34m\u001b[0m\u001b[0m\n\u001b[0m\u001b[1;32m     20\u001b[0m \u001b[0;34m\u001b[0m\u001b[0m\n\u001b[1;32m     21\u001b[0m \u001b[0mdriver\u001b[0m\u001b[0;34m.\u001b[0m\u001b[0mback\u001b[0m\u001b[0;34m(\u001b[0m\u001b[0;34m)\u001b[0m\u001b[0;34m\u001b[0m\u001b[0;34m\u001b[0m\u001b[0m\n",
      "\u001b[0;31mAttributeError\u001b[0m: 'WebDriver' object has no attribute 'click'"
     ]
    }
   ],
   "source": [
    "driver = webdriver.Chrome('./chromedriver')\n",
    "driver.maximize_window()\n",
    "url_first = 'https://shopee.tw/search?keyword=%E7%94%B7%E5%A5%B3%E9%9E%8B%E6%AC%BE&page=0'\n",
    "driver.get(url_first)\n",
    "time.sleep(2)\n",
    "item = driver.find_element_by_xpath(\n",
    "    '//*[@id=\"main\"]/div/div[3]/div/div[2]/div[2]/div[2]/div[1]/a')\n",
    "id = item.get_attribute('href')\n",
    "print(id)\n",
    "# //*[@id=\"main\"]/div/div[3]/div/div[2]/div[2]/div[2]/div[{i}]/a   total 50\n",
    "driver.click()\n",
    "\n",
    "driver.back()\n",
    "driver.close()"
   ]
  },
  {
   "cell_type": "code",
   "execution_count": null,
   "id": "c019e46e-e48b-4e85-81e6-f497a01357b0",
   "metadata": {},
   "outputs": [],
   "source": [
    "\n",
    "keyword = '男女鞋款'\n",
    "headers = {\n",
    "    'user-agent': 'Mozilla/5.0 (Windows NT 10.0; Win64; x64) AppleWebKit/537.36 (KHTML, like Gecko) Chrome/88.0.4324.150 Safari/537.36 Edg/88.0.705.68',\n",
    "    'x-api-source': 'pc',\n",
    "    'referer': f'https://shopee.tw/search?keyword={urllib.parse.quote(keyword)}'\n",
    "}\n",
    "\n",
    "s = requests.Session()\n",
    "url = 'https://shopee.tw/api/v4/search/product_labels'\n",
    "r = s.get(url, headers=headers)\n",
    "\n",
    "base_url = 'https://shopee.tw/api/v2/search_items/'\n",
    "query = f\"by=relevancy&keyword={keyword}&limit=50&newest=0&order=desc&page_type=search&version=2\"\n",
    "url = base_url + '?' + query\n",
    "r = s.get(url, headers=headers)\n",
    "if r.status_code == requests.codes.ok:\n",
    "    data = r.json()\n",
    "\n",
    "with open('shopee.json', 'w', encoding='utf-8') as f:\n",
    "    f.write(r.text)\n",
    "https: // shopee.tw/api/v2/item/get_ratings?filter = 0 & flag = 1 & itemid = 2315556624 & limit = 6 & offset = 0 & shopid = 17633705 & type = 0\n"
   ]
  }
 ],
 "metadata": {
  "kernelspec": {
   "display_name": "Python 3",
   "language": "python",
   "name": "python3"
  },
  "language_info": {
   "codemirror_mode": {
    "name": "ipython",
    "version": 3
   },
   "file_extension": ".py",
   "mimetype": "text/x-python",
   "name": "python",
   "nbconvert_exporter": "python",
   "pygments_lexer": "ipython3",
   "version": "3.9.5"
  }
 },
 "nbformat": 4,
 "nbformat_minor": 5
}
