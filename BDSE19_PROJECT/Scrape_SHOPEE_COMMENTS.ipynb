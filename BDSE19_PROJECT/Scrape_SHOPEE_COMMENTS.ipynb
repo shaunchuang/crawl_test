{
 "cells": [
  {
   "cell_type": "code",
   "execution_count": 3,
   "id": "0f49f0a8",
   "metadata": {},
   "outputs": [],
   "source": [
    "import requests\n",
    "import urllib\n",
    "import pandas as pd"
   ]
  },
  {
   "cell_type": "code",
   "execution_count": 116,
   "id": "850c9f07",
   "metadata": {},
   "outputs": [],
   "source": [
    "#先抓大商品標題&內容\n",
    "keyword = '背心女'\n",
    "headers = {\n",
    "    'user-agent':'Mozilla/5.0 (Windows NT 10.0; Win64; x64) AppleWebKit/537.36 (KHTML, like Gecko) Chrome/89.0.4389.114 Safari/537.36',\n",
    "    'x-api-source': 'pc',\n",
    "    'referer': f'https://shopee.tw/search?keyword={urllib.parse.quote(keyword)}'\n",
    "}\n",
    "\n",
    "s = requests.Session()\n",
    "#url = 'https://cf.shopee.tw/file/a36d73057b95a451f6986689cca7cfc2'\n",
    "#r = s.get(url, headers=headers)\n",
    "\n",
    "base_url = 'https://shopee.tw/api/v4/search/search_items'\n",
    "query = f\"by=relevancy&keyword={keyword}&limit=50&newest=0&order=desc&page_type=search&scenario=PAGE_GLOBAL_SEARCH&version=2\"\n",
    "url = base_url + '?' + query\n",
    "r = s.get(url, headers=headers)\n",
    "if r.status_code == requests.codes.ok:\n",
    "    data = r.json()\n",
    "    # with open('shopee.json', 'w', encoding='utf-8') as f:\n",
    "    #     f.write(r.text)"
   ]
  },
  {
   "cell_type": "code",
   "execution_count": 129,
   "id": "e2565278",
   "metadata": {},
   "outputs": [
    {
     "name": "stdout",
     "output_type": "stream",
     "text": [
      "       itemid     shopid                                               name\n",
      "0  5383817226  338734079  【熱銷】【買一送一】【三套以上更優惠】專業無痕背心 冰絲背心 大尺碼背心 薄款打底 單穿百搭...\n",
      "1  8057268321  409433252  【限時促銷】純棉吊帶 背心女 大碼韓版外穿寬鬆 夏季新款極簡文藝百搭內搭工字吊帶 打底無袖T...\n",
      "2  2939150375  361800542  【低價爆款】在台現貨🌸 春夏新款純色內搭打底衫工字吊帶背心女性感外穿港味印花無袖T恤无袖韩版...\n",
      "3  4891836032  455538747                      2021夏純色小吊帶背心打底衫內搭大碼圓領百搭性感小吊帶女\n",
      "4  3586910583  421788737  女士無痕背心外穿吊帶衫內搭打底短款冰絲潮性感無袖針織性感夏加肥大尺碼200斤胖妹妹小可愛背心...\n"
     ]
    }
   ],
   "source": [
    "df = pd.json_normalize(data['items'])\n",
    "df.columns\n",
    "df.to_csv('shoppee_products.csv', encoding='utf_8_sig')\n",
    "df_products = df[['itemid','shopid','item_basic.name']]\n",
    "df_products.columns = ['itemid','shopid','name']\n",
    "print(df_products.head())"
   ]
  },
  {
   "cell_type": "code",
   "execution_count": 199,
   "id": "175fd481",
   "metadata": {},
   "outputs": [],
   "source": [
    "#再抓進入商品頁細部資訊&評論\n",
    "#回傳資料裡面並無\"商品網址\"，要自己串#shopid：賣場ID。itemid：商品ID。\n",
    "df1 = pd.DataFrame(columns=['itemid', 'rating', 'liked', 'videos', 'has_template_tag', 'shopid',\n",
    "       'show_reply', 'rating_star', 'like_count', 'mtime', 'mentioned',\n",
    "       'is_hidden', 'template_tags', 'author_portrait', 'detailed_rating',\n",
    "       'orderid', 'cmtid', 'exclude_scoring_due_low_logistic', 'editable_date',\n",
    "       'sync_to_social_toggle', 'opt', 'status', 'author_username', 'tags',\n",
    "       'images', 'delete_operator', 'editable', 'anonymous', 'loyalty_info',\n",
    "       'ctime', 'product_items', 'author_shopid', 'userid', 'comment',\n",
    "       'filter', 'sync_to_social', 'delete_reason', 'ItemRatingReply.orderid',\n",
    "       'ItemRatingReply.itemid', 'ItemRatingReply.cmtid',\n",
    "       'ItemRatingReply.ctime', 'ItemRatingReply.mentioned',\n",
    "       'ItemRatingReply.rating', 'ItemRatingReply.editable',\n",
    "       'ItemRatingReply.userid', 'ItemRatingReply.shopid',\n",
    "       'ItemRatingReply.comment', 'ItemRatingReply.filter',\n",
    "       'ItemRatingReply.rating_star', 'ItemRatingReply.status',\n",
    "       'ItemRatingReply.mtime', 'ItemRatingReply.opt',\n",
    "       'ItemRatingReply.is_hidden'])\n",
    "\n",
    "for itemid, shopid, name in products_list:\n",
    "    headers = {\n",
    "        'user-agent':'Mozilla/5.0 (Windows NT 10.0; Win64; x64) AppleWebKit/537.36 (KHTML, like Gecko) Chrome/89.0.4389.114 Safari/537.36',\n",
    "        'x-api-source': 'pc',\n",
    "        'referer': f'https://shopee.tw/{urllib.parse.quote(name)}-i.{urllib.parse.quote(str(shopid))}.{urllib.parse.quote(str(itemid))}'\n",
    "    }\n",
    "\n",
    "    s = requests.Session()\n",
    "    #url = 'https://shopee.tw/api/v4/platform/get_ft_v2'\n",
    "    #r = s.get(url, headers=headers)\n",
    "\n",
    "    base_url = 'https://shopee.tw/api/v2/item/get_ratings'\n",
    "    offset = 0\n",
    "    for i in range(10): #假設最多10*6個評論\n",
    "        if i > 0:\n",
    "            offset = offset+6\n",
    "        query = f\"filter=0&flag=1&itemid={itemid}&limit=6&offset=0&shopid={shopid}&type=0\"\n",
    "        # https://shopee.tw/api/v2/item/get_ratings?filter=0&flag=1&itemid=5243593854&limit=6&offset=0&shopid=169621818&type=0\n",
    "        url = base_url + '?' + query\n",
    "        r = s.get(url, headers=headers)\n",
    "        if r.status_code == requests.codes.ok:\n",
    "            data2 = r.json()\n",
    "            df2 = pd.json_normalize(data2['data']['ratings'])\n",
    "            df1 = pd.concat([df1, df2], axis=0)\n",
    "            # with open('shopee.json', 'w', encoding='utf-8') as f:\n",
    "            #     f.write(r.text)"
   ]
  },
  {
   "cell_type": "code",
   "execution_count": 196,
   "id": "e055ca31",
   "metadata": {},
   "outputs": [],
   "source": [
    "#單個商品測試(可略不看)\n",
    "#再抓進入商品頁細部資訊&評論\n",
    "#回傳資料裡面並無\"商品網址\"，要自己串#shopid：賣場ID。itemid：商品ID。\n",
    "# df1 = pd.DataFrame(columns=['itemid', 'rating', 'liked', 'videos', 'has_template_tag', 'shopid',\n",
    "#        'show_reply', 'rating_star', 'like_count', 'mtime', 'mentioned',\n",
    "#        'is_hidden', 'template_tags', 'author_portrait', 'detailed_rating',\n",
    "#        'orderid', 'cmtid', 'exclude_scoring_due_low_logistic', 'editable_date',\n",
    "#        'sync_to_social_toggle', 'opt', 'status', 'author_username', 'tags',\n",
    "#        'images', 'delete_operator', 'editable', 'anonymous', 'loyalty_info',\n",
    "#        'ctime', 'product_items', 'author_shopid', 'userid', 'comment',\n",
    "#        'filter', 'sync_to_social', 'delete_reason', 'ItemRatingReply.orderid',\n",
    "#        'ItemRatingReply.itemid', 'ItemRatingReply.cmtid',\n",
    "#        'ItemRatingReply.ctime', 'ItemRatingReply.mentioned',\n",
    "#        'ItemRatingReply.rating', 'ItemRatingReply.editable',\n",
    "#        'ItemRatingReply.userid', 'ItemRatingReply.shopid',\n",
    "#        'ItemRatingReply.comment', 'ItemRatingReply.filter',\n",
    "#        'ItemRatingReply.rating_star', 'ItemRatingReply.status',\n",
    "#        'ItemRatingReply.mtime', 'ItemRatingReply.opt',\n",
    "#        'ItemRatingReply.is_hidden'])\n",
    "\n",
    "# itemid = '4551216182'\n",
    "# shopid = '301395882'\n",
    "# name = '【低價爆款】在台現貨🌸 春夏新款純色內搭打底衫工字吊帶背心女性感外穿港味印花無袖T恤无袖韩版女生小可愛 修身顯瘦 吊帶'\n",
    "# headers = {\n",
    "#     'user-agent':'Mozilla/5.0 (Windows NT 10.0; Win64; x64) AppleWebKit/537.36 (KHTML, like Gecko) Chrome/89.0.4389.114 Safari/537.36',\n",
    "#     'x-api-source': 'pc',\n",
    "#     'referer': f'https://shopee.tw/{urllib.parse.quote(name)}-i.{urllib.parse.quote(shopid)}.{urllib.parse.quote(itemid)}'\n",
    "# }\n",
    "\n",
    "# s = requests.Session()\n",
    "# #url = 'https://shopee.tw/api/v4/platform/get_ft_v2'\n",
    "# #r = s.get(url, headers=headers)\n",
    "\n",
    "# base_url = 'https://shopee.tw/api/v2/item/get_ratings'\n",
    "# offset = 0\n",
    "# for i in range(10): #假設最多60*6個評論\n",
    "#     if i > 0:\n",
    "#         offset = offset+6\n",
    "#     query = f\"filter=0&flag=1&itemid={itemid}&limit=6&offset={offset}&shopid={shopid}&type=0\" #設定一次出現6筆評論\n",
    "#     # https://shopee.tw/api/v2/item/get_ratings?filter=0&flag=1&itemid=5243593854&limit=6&offset=0&shopid=169621818&type=0\n",
    "#     url = base_url + '?' + query\n",
    "#     r = s.get(url, headers=headers)\n",
    "#     if r.status_code == requests.codes.ok:\n",
    "#         data2 = r.json()\n",
    "#         if data2['data'] is not None:\n",
    "#             df2 = pd.json_normalize(data2['data']['ratings'])\n",
    "#             df1 = pd.concat([df1, df2], axis=0)\n",
    "        # with open('shopee.json', 'w', encoding='utf-8') as f:\n",
    "        #     f.write(r.text)"
   ]
  },
  {
   "cell_type": "code",
   "execution_count": 201,
   "id": "8e20699e",
   "metadata": {},
   "outputs": [],
   "source": [
    "df1.to_csv('shoppee_comment_test.csv', encoding='utf_8_sig')"
   ]
  }
 ],
 "metadata": {
  "kernelspec": {
   "display_name": "Python 3",
   "language": "python",
   "name": "python3"
  },
  "language_info": {
   "codemirror_mode": {
    "name": "ipython",
    "version": 3
   },
   "file_extension": ".py",
   "mimetype": "text/x-python",
   "name": "python",
   "nbconvert_exporter": "python",
   "pygments_lexer": "ipython3",
   "version": "3.9.5"
  }
 },
 "nbformat": 4,
 "nbformat_minor": 5
}
