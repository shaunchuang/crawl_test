{
 "cells": [
  {
   "cell_type": "code",
   "execution_count": 5,
   "id": "e9b10843-73e1-467e-b71f-26b37d1900e9",
   "metadata": {},
   "outputs": [],
   "source": [
    "from bs4 import BeautifulSoup\n",
    "import requests\n",
    "from pprint import pprint\n",
    "import numpy as np\n",
    "import pandas as pd"
   ]
  },
  {
   "cell_type": "code",
   "execution_count": 7,
   "id": "4c095ad4-ae2f-4097-83e0-f149dbc7be40",
   "metadata": {},
   "outputs": [
    {
     "name": "stdout",
     "output_type": "stream",
     "text": [
      "['28973']\n",
      "['28966']\n",
      "['28955']\n",
      "['28942']\n",
      "['28875']\n",
      "['28874']\n",
      "['28870']\n",
      "['28869']\n",
      "['28868']\n",
      "['28863']\n",
      "['28828']\n",
      "['28824']\n",
      "['28819']\n",
      "['28815']\n",
      "['28804']\n"
     ]
    }
   ],
   "source": [
    "url = 'https://www.easycar.tw/carList.php?Action=search&show=col&lifting=desc&year=1995&year1=2020&page=1'\n",
    "headers = {'User-Agent':'Mozilla/5.0 (Macintosh; Intel Mac OS X 10_15_7) AppleWebKit/537.36 (KHTML, like Gecko) Chrome/91.0.4472.114 Safari/537.36'}\n",
    "\n",
    "\n",
    "r=requests.get(url,headers=headers)\n",
    "soup=BeautifulSoup(r.text,'lxml')\n",
    "\n",
    "a=soup.find_all('a',class_='btn btn-add-collection')\n",
    "for i in a:\n",
    "    idnum=i.get('rel')\n",
    "    print(idnum)"
   ]
  }
 ],
 "metadata": {
  "kernelspec": {
   "display_name": "Python 3",
   "language": "python",
   "name": "python3"
  },
  "language_info": {
   "codemirror_mode": {
    "name": "ipython",
    "version": 3
   },
   "file_extension": ".py",
   "mimetype": "text/x-python",
   "name": "python",
   "nbconvert_exporter": "python",
   "pygments_lexer": "ipython3",
   "version": "3.9.5"
  }
 },
 "nbformat": 4,
 "nbformat_minor": 5
}
